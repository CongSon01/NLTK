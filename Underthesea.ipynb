{
 "cells": [
  {
   "cell_type": "markdown",
   "metadata": {},
   "source": [
    "<h1 style=\"text-align: center;\"> <b>Underthesea</b> </h1>\n",
    "# Nội dung\n",
    "<ul>\n",
    "    <li>1. Sentence Segmentation</li>\n",
    "    <li>2. Word Segmentation</li>\n",
    "    <li>3. POS Tagging</li>\n",
    "    <li>4. Chunking</li>\n",
    "    <li>5. Dependency Parsing</li>\n",
    "    <li>6. Named Entity Recognition</li>\n",
    "    <li>7. Text Classification</li>\n",
    "    <li>8. Sentiment Analysis</li>\n",
    "    <li>9. Vietnamese NLP Resources</li>\n",
    "</ul>"
   ]
  },
  {
   "cell_type": "markdown",
   "metadata": {},
   "source": [
    "# 1. Sentence Segmentation"
   ]
  },
  {
   "cell_type": "code",
   "execution_count": 3,
   "metadata": {},
   "outputs": [
    {
     "name": "stdout",
     "output_type": "stream",
     "text": [
      "['Đây là tuần đầu tiên tôi được đi học sau nhiều tháng giãn cách xã hội.', 'Những ngày đầu đi học được gặp các bạn và thầy cô, tôi vui quá.']\n"
     ]
    }
   ],
   "source": [
    "from underthesea import sent_tokenize\n",
    "text = 'Đây là tuần đầu tiên tôi được đi học sau nhiều tháng giãn cách xã hội. Những ngày đầu đi học được gặp các bạn và thầy cô, tôi vui quá.'\n",
    "print(sent_tokenize(text))"
   ]
  },
  {
   "cell_type": "markdown",
   "metadata": {},
   "source": [
    "# 2. Word Segmentation"
   ]
  },
  {
   "cell_type": "code",
   "execution_count": 4,
   "metadata": {},
   "outputs": [
    {
     "name": "stdout",
     "output_type": "stream",
     "text": [
      "['Đây', 'là', 'tuần', 'đầu tiên', 'tôi', 'được', 'đi', 'học', 'sau', 'nhiều', 'tháng', 'giãn', 'cách', 'xã hội', '.', 'Những', 'ngày', 'đầu', 'đi', 'học', 'được', 'gặp', 'các', 'bạn', 'và', 'thầy cô', ',', 'tôi', 'vui', 'quá', '.']\n"
     ]
    }
   ],
   "source": [
    "from underthesea import word_tokenize\n",
    "text = 'Đây là tuần đầu tiên tôi được đi học sau nhiều tháng giãn cách xã hội. Những ngày đầu đi học được gặp các bạn và thầy cô, tôi vui quá.'\n",
    "print(word_tokenize(text))"
   ]
  },
  {
   "cell_type": "markdown",
   "metadata": {},
   "source": [
    "# 3. POS Tagging"
   ]
  },
  {
   "cell_type": "code",
   "execution_count": 5,
   "metadata": {},
   "outputs": [
    {
     "name": "stdout",
     "output_type": "stream",
     "text": [
      "[('Đây', 'P'), ('là', 'V'), ('tuần', 'N'), ('đầu tiên', 'A'), ('tôi', 'P'), ('được', 'V'), ('đi', 'V'), ('học', 'V'), ('sau', 'N'), ('nhiều', 'A'), ('tháng', 'N'), ('giãn', 'M'), ('cách', 'N'), ('xã hội', 'N'), ('.', 'CH'), ('Những', 'L'), ('ngày', 'N'), ('đầu', 'N'), ('đi', 'V'), ('học', 'V'), ('được', 'R'), ('gặp', 'V'), ('các', 'L'), ('bạn', 'N'), ('và', 'C'), ('thầy cô', 'Nc'), (',', 'CH'), ('tôi', 'P'), ('vui', 'A'), ('quá', 'R'), ('.', 'CH')]\n"
     ]
    }
   ],
   "source": [
    "from underthesea import pos_tag\n",
    "text = 'Đây là tuần đầu tiên tôi được đi học sau nhiều tháng giãn cách xã hội. Những ngày đầu đi học được gặp các bạn và thầy cô, tôi vui quá.'\n",
    "print(pos_tag(text))"
   ]
  },
  {
   "cell_type": "markdown",
   "metadata": {},
   "source": [
    "# 4. Chunking"
   ]
  },
  {
   "cell_type": "code",
   "execution_count": 6,
   "metadata": {},
   "outputs": [
    {
     "name": "stdout",
     "output_type": "stream",
     "text": [
      "[('Đây', 'P', 'B-NP'), ('là', 'V', 'B-VP'), ('tuần', 'N', 'B-NP'), ('đầu tiên', 'A', 'B-AP'), ('tôi', 'P', 'B-NP'), ('được', 'V', 'B-VP'), ('đi', 'V', 'B-VP'), ('học', 'V', 'B-VP'), ('sau', 'N', 'B-NP'), ('nhiều', 'A', 'B-AP'), ('tháng', 'N', 'B-NP'), ('giãn', 'M', 'B-NP'), ('cách', 'N', 'B-NP'), ('xã hội', 'N', 'B-NP'), ('.', 'CH', 'O'), ('Những', 'L', 'B-NP'), ('ngày', 'N', 'B-NP'), ('đầu', 'N', 'B-NP'), ('đi', 'V', 'B-VP'), ('học', 'V', 'B-VP'), ('được', 'R', 'O'), ('gặp', 'V', 'B-VP'), ('các', 'L', 'B-NP'), ('bạn', 'N', 'B-NP'), ('và', 'C', 'O'), ('thầy cô', 'Nc', 'B-NP'), (',', 'CH', 'O'), ('tôi', 'P', 'B-NP'), ('vui', 'A', 'B-AP'), ('quá', 'R', 'O'), ('.', 'CH', 'O')]\n"
     ]
    }
   ],
   "source": [
    "from underthesea import chunk\n",
    "text = 'Đây là tuần đầu tiên tôi được đi học sau nhiều tháng giãn cách xã hội. Những ngày đầu đi học được gặp các bạn và thầy cô, tôi vui quá.'\n",
    "print(chunk(text))"
   ]
  },
  {
   "cell_type": "markdown",
   "metadata": {},
   "source": [
    "# 5. Dependency Parsing"
   ]
  },
  {
   "cell_type": "code",
   "execution_count": null,
   "metadata": {},
   "outputs": [],
   "source": [
    "from underthesea import dependency_parse\n",
    "text = 'Đây là tuần đầu tiên tôi được đi học sau nhiều tháng giãn cách xã hội. Những ngày đầu đi học được gặp các bạn và thầy cô, tôi vui quá.'\n",
    "print(dependency_parse(text))"
   ]
  },
  {
   "cell_type": "markdown",
   "metadata": {},
   "source": [
    "# 6. Name Entity Recognition"
   ]
  },
  {
   "cell_type": "code",
   "execution_count": 10,
   "metadata": {},
   "outputs": [
    {
     "name": "stdout",
     "output_type": "stream",
     "text": [
      "[('Đây', 'P', 'B-NP', 'O'), ('là', 'V', 'B-VP', 'O'), ('tuần', 'N', 'B-NP', 'O'), ('đầu tiên', 'A', 'B-AP', 'O'), ('tôi', 'P', 'B-NP', 'O'), ('được', 'V', 'B-VP', 'O'), ('đi', 'V', 'B-VP', 'O'), ('học', 'V', 'B-VP', 'O'), ('sau', 'N', 'B-NP', 'O'), ('nhiều', 'A', 'B-AP', 'O'), ('tháng', 'N', 'B-NP', 'O'), ('giãn', 'M', 'B-NP', 'O'), ('cách', 'N', 'B-NP', 'O'), ('xã hội', 'N', 'B-NP', 'O'), ('.', 'CH', 'O', 'O'), ('Những', 'L', 'B-NP', 'O'), ('ngày', 'N', 'B-NP', 'O'), ('đầu', 'N', 'B-NP', 'O'), ('đi', 'V', 'B-VP', 'O'), ('học', 'V', 'B-VP', 'O'), ('được', 'R', 'O', 'O'), ('gặp', 'V', 'B-VP', 'O'), ('các', 'L', 'B-NP', 'O'), ('bạn', 'N', 'B-NP', 'O'), ('và', 'C', 'O', 'O'), ('thầy cô', 'Nc', 'B-NP', 'O'), (',', 'CH', 'O', 'O'), ('tôi', 'P', 'B-NP', 'O'), ('vui', 'A', 'B-AP', 'O'), ('quá', 'R', 'O', 'O'), ('.', 'CH', 'O', 'O')]\n"
     ]
    }
   ],
   "source": [
    "from underthesea import ner\n",
    "text = 'Đây là tuần đầu tiên tôi được đi học sau nhiều tháng giãn cách xã hội. Những ngày đầu đi học được gặp các bạn và thầy cô, tôi vui quá.'\n",
    "print(ner(text))"
   ]
  },
  {
   "cell_type": "markdown",
   "metadata": {},
   "source": [
    "# 7. Text Classification"
   ]
  },
  {
   "cell_type": "code",
   "execution_count": null,
   "metadata": {},
   "outputs": [],
   "source": [
    "from underthesea import classify\n",
    "print(classify('HLV đầu tiên ở Premier League bị sa thải sau 4 vòng đấu'))"
   ]
  },
  {
   "cell_type": "code",
   "execution_count": null,
   "metadata": {},
   "outputs": [],
   "source": []
  }
 ],
 "metadata": {
  "interpreter": {
   "hash": "fff545b085d6f59d80c593aef446028195dea6f8104fd012eb24b935fd2b928a"
  },
  "kernelspec": {
   "display_name": "Python 3.7.12 ('myenv')",
   "language": "python",
   "name": "python3"
  },
  "language_info": {
   "codemirror_mode": {
    "name": "ipython",
    "version": 3
   },
   "file_extension": ".py",
   "mimetype": "text/x-python",
   "name": "python",
   "nbconvert_exporter": "python",
   "pygments_lexer": "ipython3",
   "version": "3.7.12"
  },
  "orig_nbformat": 4
 },
 "nbformat": 4,
 "nbformat_minor": 2
}
