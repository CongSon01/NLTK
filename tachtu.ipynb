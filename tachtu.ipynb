{
 "cells": [
  {
   "cell_type": "markdown",
   "metadata": {},
   "source": [
    "<h1 style=\"text-align: center;\"> <b>Bài cộng điểm.</b> </h1>\n",
    "# Dùng Backtracking tách câu thành nhiều trường hợp."
   ]
  },
  {
   "cell_type": "markdown",
   "metadata": {},
   "source": [
    "## Khai báo bộ từ điển và câu cần tách"
   ]
  },
  {
   "cell_type": "code",
   "execution_count": 144,
   "metadata": {},
   "outputs": [],
   "source": [
    "text = \"học sinh học sinh học\"\n",
    "dict_word = {1:'học', 2:'sinh', 3:'học sinh', 4:'sinh học'}"
   ]
  },
  {
   "cell_type": "markdown",
   "metadata": {},
   "source": [
    "Tiền xử lý chuỗi đầu vào thành list"
   ]
  },
  {
   "cell_type": "code",
   "execution_count": 145,
   "metadata": {},
   "outputs": [
    {
     "name": "stdout",
     "output_type": "stream",
     "text": [
      "List đầu vào:  ['học', 'sinh', 'học', 'sinh', 'học']\n"
     ]
    }
   ],
   "source": [
    "list_input_text = text.split()\n",
    "print(\"List đầu vào: \",list_input_text)"
   ]
  },
  {
   "cell_type": "code",
   "execution_count": 146,
   "metadata": {},
   "outputs": [],
   "source": [
    "# Hàm kiểm tra chuỗi có trong bộ từ điểm\n",
    "def checkInDict(string):\n",
    "    if (string in dict_word.values()):\n",
    "        return True\n",
    "    else:\n",
    "        return False"
   ]
  },
  {
   "cell_type": "code",
   "execution_count": 147,
   "metadata": {},
   "outputs": [],
   "source": [
    "# Kết quả trả về \n",
    "list_results = []\n",
    "# Độ dài của list đầu vào \n",
    "length = len(list_input_text)"
   ]
  },
  {
   "cell_type": "code",
   "execution_count": 148,
   "metadata": {},
   "outputs": [],
   "source": [
    "# Hàm backtracking với các tham số\n",
    "# \n",
    "def backtracking(tmp_words, k, is_print):\n",
    "    # khai báo các giá trị ban đầu\n",
    "    string = \"\"\n",
    "    current_word = tmp_words[:]\n",
    "\n",
    "    # Lặp qua các từ còn lại từ k -> n\n",
    "    for i in range(k, length):\n",
    "        # Cộng chuỗi mới \n",
    "        string += list_input_text[i] + ' '\n",
    "        # Kiểm ra chuỗi mới có trong từ điển \n",
    "        if checkInDict(string.rstrip()):\n",
    "            # Nếu có thì thêm vào list kết quả, và thay khoảng trống là _ \n",
    "            tmp_words.append(string.rstrip().replace(\" \", \"_\"))\n",
    "            if i + 1 < length:\n",
    "                # Nếu chuỗi chưa hết thì tiếp tục backtracking\n",
    "                backtracking(tmp_words[:], i + 1, is_print)\n",
    "            else:\n",
    "                # Nếu chuỗi hết thì thêm vào list kết quả\n",
    "                list_results.append(tmp_words)\n",
    "                # In ra kết quả\n",
    "                if is_print:\n",
    "                    print(tmp_words)\n",
    "                    print('--------')\n",
    "            \n",
    "            # Xét tiếp chuỗi hiện tại \n",
    "            tmp_words = current_word"
   ]
  },
  {
   "cell_type": "code",
   "execution_count": 149,
   "metadata": {},
   "outputs": [
    {
     "name": "stdout",
     "output_type": "stream",
     "text": [
      "['học', 'sinh', 'học', 'sinh', 'học']\n",
      "--------\n",
      "['học', 'sinh', 'học', 'sinh_học']\n",
      "--------\n",
      "['học', 'sinh', 'học_sinh', 'học']\n",
      "--------\n",
      "['học', 'sinh_học', 'sinh', 'học']\n",
      "--------\n",
      "['học', 'sinh_học', 'sinh_học']\n",
      "--------\n",
      "['học_sinh', 'học', 'sinh', 'học']\n",
      "--------\n",
      "['học_sinh', 'học', 'sinh_học']\n",
      "--------\n",
      "['học_sinh', 'học_sinh', 'học']\n",
      "--------\n"
     ]
    }
   ],
   "source": [
    "tmp_words = []\n",
    "# Gọi làm backtracking \n",
    "backtracking(tmp_words[:], 0, True)"
   ]
  },
  {
   "cell_type": "markdown",
   "metadata": {},
   "source": [
    "# In kết quả"
   ]
  },
  {
   "cell_type": "code",
   "execution_count": 150,
   "metadata": {},
   "outputs": [],
   "source": [
    "def printSolution(list_results):\n",
    "    print(\"Kết quả là: \")\n",
    "    for i in range(len(list_results)):\n",
    "        print('Câu ' , i+1 , ': ', end='')\n",
    "        for j in range(len(list_results[i])):\n",
    "            print(list_results[i][j], end = \"  \")\n",
    "\n",
    "        print()"
   ]
  },
  {
   "cell_type": "code",
   "execution_count": 151,
   "metadata": {},
   "outputs": [
    {
     "name": "stdout",
     "output_type": "stream",
     "text": [
      "Kết quả là: \n",
      "Câu  1 : học  sinh  học  sinh  học  \n",
      "Câu  2 : học  sinh  học  sinh_học  \n",
      "Câu  3 : học  sinh  học_sinh  học  \n",
      "Câu  4 : học  sinh_học  sinh  học  \n",
      "Câu  5 : học  sinh_học  sinh_học  \n",
      "Câu  6 : học_sinh  học  sinh  học  \n",
      "Câu  7 : học_sinh  học  sinh_học  \n",
      "Câu  8 : học_sinh  học_sinh  học  \n"
     ]
    }
   ],
   "source": [
    "printSolution(list_results)"
   ]
  }
 ],
 "metadata": {
  "interpreter": {
   "hash": "fff545b085d6f59d80c593aef446028195dea6f8104fd012eb24b935fd2b928a"
  },
  "kernelspec": {
   "display_name": "Python 3.7.12 ('myenv')",
   "language": "python",
   "name": "python3"
  },
  "language_info": {
   "codemirror_mode": {
    "name": "ipython",
    "version": 3
   },
   "file_extension": ".py",
   "mimetype": "text/x-python",
   "name": "python",
   "nbconvert_exporter": "python",
   "pygments_lexer": "ipython3",
   "version": "3.7.12"
  },
  "orig_nbformat": 4
 },
 "nbformat": 4,
 "nbformat_minor": 2
}
